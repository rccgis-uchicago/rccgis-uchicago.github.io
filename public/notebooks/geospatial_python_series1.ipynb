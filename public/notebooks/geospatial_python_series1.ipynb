{
 "cells": [
  {
   "cell_type": "markdown",
   "id": "b0b71b9f",
   "metadata": {},
   "source": [
    "# RCC - UChicago, 2025\n",
    "\n",
    "## Geospatial Python Part 1: Satellite & Climate Raster Analysis\n",
    "\n",
    "### Instructors:\n",
    "\n",
    "- Hamid Dashti (hdashti@uchicago.edu)\n",
    "- Parmanand Sinha (pnsinha@uchicago.edu)"
   ]
  },
  {
   "cell_type": "markdown",
   "id": "3698946b",
   "metadata": {},
   "source": [
    "### Commands\n",
    "\n",
    "- `Shift` + `Enter`: Run and move to the next cell.\n",
    "- `Ctrl` + `Enter`: Run the cell in place.\n",
    "- `Alt` + `Enter`: Run and insert a new cell below.\n",
    "- To delete a cell: Press `esc` to enter command mode, then press `DD`.\n",
    "- To insert a new cell below: Press `esc` then `b`.\n",
    "- To insert a new cell above: Press `esc` then `a`."
   ]
  },
  {
   "cell_type": "markdown",
   "id": "45c859c8",
   "metadata": {},
   "source": [
    "## Topics\n",
    "\n",
    "**Part 1:**\n",
    "\n",
    "- **Introduction to common geospatial file formats**\n",
    "- **Introduction to xarray:**\n",
    "  - Data exploration\n",
    "  - Indexing\n",
    "- **Visualizing data with xarray:**\n",
    "\n",
    "  - Static plots\n",
    "  - Interactive plotting\n",
    "\n",
    "- **Computation with Xarray:**\n",
    "\n",
    "  - Built-in functions\n",
    "  - Costume functions\n",
    "- **Exercise**\n",
    "- **Some advanced features**\n",
    "\n",
    "\n"
   ]
  },
  {
   "cell_type": "markdown",
   "id": "15debdaf",
   "metadata": {},
   "source": [
    "# **Geospatial Data Formats for Climate and Satellite Data**\n",
    "\n",
    "## Key Formats\n",
    "\n",
    "Common geospatial file formats frequently used for climate and satellite data:\n",
    "\n",
    "### NetCDF (Network Common Data Form; <u>Our focus today</u>)\n",
    "\n",
    "**Purpose:**\n",
    "\n",
    "- Storing and sharing multidimensional scientific array-based data with comprehensive metadata.\n",
    "\n",
    "**Key Features:**\n",
    "\n",
    "- Self-describing with rich metadata for efficient algorithm development.\n",
    "- Scalable for efficient access to subsets of large datasets, even remotely.\n",
    "- Appendable for data addition without structure redefinition.\n",
    "- Sharable with support for multi-user access.\n",
    "\n",
    "**Common Applications:**\n",
    "\n",
    "- Gridded climate data\n",
    "- Satellite images\n",
    "- Earth system model outputs\n",
    "\n",
    "**CF Conventions (Climate and Forecast):**\n",
    "\n",
    "- Standardized metadata for self-description and interoperability.\n",
    "- Ensures variables have associated descriptions, physical units, and spatiotemporal coordinates.\n",
    "- Enables software tools to work effectively with minimal user intervention.\n",
    "\n",
    "**Links:**\n",
    "\n",
    "- [NetCDF Website](https://www.unidata.ucar.edu/software/netcdf/)\n",
    "- [CF Conventions](http://cfconventions.org/)\n",
    "\n",
    "### HDF5 (Hierarchical Data Format version 5)\n",
    "\n",
    "**Purpose:**\n",
    "\n",
    "- Storing complex heterogeneous datasets.\n",
    "\n",
    "**Key Features:**\n",
    "\n",
    "- Hierarchical data organization with groups and datasets.\n",
    "- Self-describing with metadata within the file.\n",
    "- Multiple data type support (integers, floats, strings, complex numbers).\n",
    "- Chunking and compression for efficient storage and access.\n",
    "- Large file and dataset support (terabytes to petabytes).\n",
    "- Parallel processing capabilities.\n",
    "\n",
    "**Common Applications:**\n",
    "\n",
    "- Many satellite data (e.g. MODIS) is HDF5.\n",
    "- Earth system model outputs.\n",
    "\n",
    "**Links:**\n",
    "\n",
    "- [HDF5 Website](https://www.hdfgroup.org/solutions/hdf5/)\n",
    "\n",
    "### Zarr\n",
    "\n",
    "**Purpose:**\n",
    "\n",
    "- Efficient parallel processing and cloud storage of large datasets.\n",
    "\n",
    "**Key Features:**\n",
    "\n",
    "- Stores data in chunks across multiple files. Makes reading and writing large datasets faster.\n",
    "- Optimized for high-performance computing (HPC), high-throughput computing (HTC), and cloud environments.\n",
    "\n",
    "**Common Applications:**\n",
    "\n",
    "- Large-scale scientific datasets\n",
    "- Cloud-based data analysis\n",
    "\n",
    "**Links:**\n",
    "\n",
    "- [Zarr Website](https://zarr.dev/)\n",
    "\n",
    "### STAC (SpatioTemporal Asset Catalog)\n",
    "\n",
    "**Purpose:**:\n",
    "\n",
    "- Simplify search and discovery of geospatial data across different providers and platforms.\n",
    "- Enable interoperability between various tools and applications working with geospatial data.\n",
    "- Facilitate easier cloud storage and access for large datasets.\n",
    "\n",
    "**Key Features:**\n",
    "\n",
    "- Uses JSON files to describe assets, providing information like location, time, data type, metadata, and availability.\n",
    "- Flexible and extensible, allowing customization for specific data types and needs.\n",
    "\n",
    "**Links:**\n",
    "\n",
    "- [STAC Website](https://stacspec.org/en)\n"
   ]
  },
  {
   "cell_type": "markdown",
   "id": "796d7149",
   "metadata": {},
   "source": [
    "## Basics of Xarray\n"
   ]
  },
  {
   "cell_type": "markdown",
   "id": "9db052a1",
   "metadata": {},
   "source": [
    "### [Xarray](https://docs.xarray.dev/en/stable/): Handling NetCDF\n",
    "\n",
    "Xarray introduces labels in the form of dimensions, coordinates and attributes on top of raw NumPy-like multidimensional arrays.\n",
    "\n",
    "Most scientific data are multidimensional arrays. We can add labels to this matrices so we can make them easier to work with.\n",
    "\n",
    "The [Pandas](https://pandas.pydata.org/) is a powerful Python package for this purpose but its limitted to 2-dimensional (e.g. tablular) data.\n",
    "\n",
    "You can think of xarray as a generalized version of Pandas that can handle n-dimensional data.\n",
    "\n",
    "With Xarray, we can read, write and process netcdf files.\n",
    "\n",
    "![Dataset Diagram](./xarray.webp)\n",
    "\n",
    "Some key terminology:\n",
    "\n",
    "- **DataArray**: A labeled multi-dimensional array.\n",
    "- **Dataset**: A collection of DataArray objects.\n",
    "- **Variable**: A NetCDF-like variable consisting of dimensions, data, and attributes which describe a single array.\n",
    "- **Dimension**: The name of the axis of the data. E.g. in math we say 'x' dimension to describe values on x axis, in climate data we can say 'time' dimension to describe that data has a temporal aspect.\n",
    "- **Coordinates**: An array that labels a dimension or set of dimensions of another DataArray. E.g. for 'x' axis in math we have (0,1,2,...), similarly we can have labels for the latitude dimension.\n"
   ]
  },
  {
   "cell_type": "markdown",
   "id": "a4a32824",
   "metadata": {},
   "source": [
    "### 1. Get Data\n",
    "\n",
    "The data is located in `/project/rcc/workshops/hamid/spring2025/data`. use the command cp and copy them to the data directory "
   ]
  },
  {
   "cell_type": "markdown",
   "id": "d2d5ace7",
   "metadata": {},
   "source": [
    "Import libraries:\n"
   ]
  },
  {
   "cell_type": "code",
   "execution_count": null,
   "id": "30224eea",
   "metadata": {},
   "outputs": [],
   "source": [
    "# import libraries\n",
    "import matplotlib.pyplot as plt\n",
    "import xarray as xr\n",
    "import numpy as np"
   ]
  },
  {
   "cell_type": "markdown",
   "id": "9c6ceba3",
   "metadata": {},
   "source": [
    "## 2. Open the data and explore\n"
   ]
  },
  {
   "cell_type": "code",
   "execution_count": null,
   "id": "e472d212",
   "metadata": {},
   "outputs": [],
   "source": [
    "# Open the landsat and air temrperature datasets\n",
    "landsat = xr.open_dataset(\"./data/small_landsat.nc\")\n",
    "air_temp = xr.open_dataset(\"./data/air.mon.mean.nc\")"
   ]
  },
  {
   "cell_type": "code",
   "execution_count": null,
   "id": "18ea09ac",
   "metadata": {},
   "outputs": [],
   "source": [
    "# Explore landsat dataset\n",
    "landsat"
   ]
  },
  {
   "cell_type": "code",
   "execution_count": null,
   "id": "d75b9d6c",
   "metadata": {},
   "outputs": [],
   "source": [
    "# Explore air temperature dataset\n",
    "air_temp"
   ]
  },
  {
   "cell_type": "code",
   "execution_count": null,
   "id": "cf821ef4",
   "metadata": {},
   "outputs": [],
   "source": [
    "# Extract the air temprature variables\n",
    "ta = air_temp[\"air\"]\n",
    "ta"
   ]
  },
  {
   "cell_type": "markdown",
   "id": "ece25da4",
   "metadata": {},
   "source": [
    "If we already know that there is only one variable in the dataset, we can use the shortcut to load the data using `xr.open_dataarray()`.\n"
   ]
  },
  {
   "cell_type": "code",
   "execution_count": null,
   "id": "ebc92ef2",
   "metadata": {},
   "outputs": [],
   "source": [
    "ta = xr.open_dataarray(\"./data/air.mon.mean.nc\")\n",
    "ta"
   ]
  },
  {
   "cell_type": "markdown",
   "id": "74913efa",
   "metadata": {},
   "source": [
    "Extract the values of the air temprature DataArray as numpy array\n"
   ]
  },
  {
   "cell_type": "code",
   "execution_count": null,
   "id": "364b5127",
   "metadata": {},
   "outputs": [],
   "source": [
    "# ta.values\n",
    "data = ta.data\n",
    "print(data)\n",
    "print(data.shape)"
   ]
  },
  {
   "cell_type": "markdown",
   "id": "11af0af0",
   "metadata": {},
   "source": [
    "Get dimensions names. Note its only names.\n"
   ]
  },
  {
   "cell_type": "code",
   "execution_count": null,
   "id": "8f001741",
   "metadata": {},
   "outputs": [],
   "source": [
    "ta.dims"
   ]
  },
  {
   "cell_type": "markdown",
   "id": "f81401eb",
   "metadata": {},
   "source": [
    "Get the coordinates. Note these are array of labels (lat/lon values, timestamps).\n"
   ]
  },
  {
   "cell_type": "code",
   "execution_count": null,
   "id": "10b9169b",
   "metadata": {},
   "outputs": [],
   "source": [
    "ta.coords"
   ]
  },
  {
   "cell_type": "markdown",
   "id": "8bbfd9e7",
   "metadata": {},
   "source": [
    "you can extract the time, latitude, and longitude coordinates as follows:\n"
   ]
  },
  {
   "cell_type": "code",
   "execution_count": null,
   "id": "7f17a813",
   "metadata": {},
   "outputs": [],
   "source": [
    "ta.coords[\"time\"]"
   ]
  },
  {
   "cell_type": "markdown",
   "id": "98e9862d",
   "metadata": {},
   "source": [
    "Get the metadata (attribute):\n"
   ]
  },
  {
   "cell_type": "code",
   "execution_count": null,
   "id": "adc062d4",
   "metadata": {},
   "outputs": [],
   "source": [
    "ta.attrs\n",
    "# Similar to coordinates, you can access the attributes of a DataArray using the .attrs[\"\"]:\n",
    "# print(ta.attrs['units'])"
   ]
  },
  {
   "cell_type": "markdown",
   "id": "b06950ad",
   "metadata": {},
   "source": [
    "Many functions used in numpy can be used here as well:\n"
   ]
  },
  {
   "cell_type": "code",
   "execution_count": null,
   "id": "14fcdc68",
   "metadata": {},
   "outputs": [],
   "source": [
    "# For example get the shape of the data\n",
    "ta.shape"
   ]
  },
  {
   "cell_type": "markdown",
   "id": "732a6f9d",
   "metadata": {},
   "source": [
    "### Indexing and selecting data and simple plotting\n",
    "\n",
    "Labeling data (as xarray does) make indexing and selecting data very flexible and intuitive. We can index data based on position or labels.\n"
   ]
  },
  {
   "cell_type": "markdown",
   "id": "6501c373",
   "metadata": {},
   "source": [
    "index like python standard method `[]`:\n"
   ]
  },
  {
   "cell_type": "code",
   "execution_count": null,
   "id": "b3551cd8",
   "metadata": {},
   "outputs": [],
   "source": [
    "# For example index data at the first time step and all latitudes and longitudes.\n",
    "ta[0, :, :]"
   ]
  },
  {
   "cell_type": "markdown",
   "id": "a8964280",
   "metadata": {},
   "source": [
    "Save NetCDF files to the disk using `to_netcdf()`\n"
   ]
  },
  {
   "cell_type": "code",
   "execution_count": null,
   "id": "3d0f8b9f",
   "metadata": {},
   "outputs": [],
   "source": [
    "# ta.to_netcdf(\"ta.nc\")"
   ]
  },
  {
   "cell_type": "markdown",
   "id": "6b0d2036",
   "metadata": {},
   "source": [
    "**Quick Practice: Index Data Inclusive of the Upper Hemisphere for Time=100, plot it and Save to Disk**\n",
    "\n",
    "_Hint: Utilize functions like `range()` or `np.arange()` for efficient indexing. For plotting extract data using `.values` and plot it using `plt.imshow()`_\n",
    "\n",
    "_Bonus: If you have other software, such as QGIS, installed on your computer, try opening the exported file to explore its contents._\n"
   ]
  },
  {
   "cell_type": "code",
   "execution_count": null,
   "id": "270dd5f7",
   "metadata": {},
   "outputs": [],
   "source": [
    "# Your codes here"
   ]
  },
  {
   "cell_type": "markdown",
   "id": "84af1a6e",
   "metadata": {},
   "source": [
    "Solution:\n"
   ]
  },
  {
   "cell_type": "code",
   "execution_count": null,
   "id": "8d15a6b4",
   "metadata": {},
   "outputs": [],
   "source": [
    "# first find what is the index for latitude from 0 to 90\n",
    "# print(ta.coords[\"lat\"][0:180])\n",
    "upper_hemsphere = ta[100, 0:180, :]\n",
    "plt.imshow(upper_hemsphere.values, cmap=\"coolwarm\")"
   ]
  },
  {
   "cell_type": "markdown",
   "id": "dd0814ad",
   "metadata": {},
   "source": [
    "Index with dimension names using `isel()` and `sel` methods. Much more intuitive!\n",
    "\n",
    "- `isel()` is integer-based selection much like `iloc()` in `pandas` or python's `[]`.\n",
    "- `sel()` is label-based selection like `'loc()` in pandas.\n"
   ]
  },
  {
   "cell_type": "code",
   "execution_count": null,
   "id": "39462206",
   "metadata": {},
   "outputs": [],
   "source": [
    "# you can do same thing along lat and lon dimensions\n",
    "data_isel = ta.isel(time=range(0, 12))\n",
    "data_isel"
   ]
  },
  {
   "cell_type": "code",
   "execution_count": null,
   "id": "2740e304",
   "metadata": {},
   "outputs": [],
   "source": [
    "data_sel = ta.sel(time=[\"2023-08-01\", \"2023-09-01\"])\n",
    "data_sel"
   ]
  },
  {
   "cell_type": "markdown",
   "id": "5ba8891d",
   "metadata": {},
   "source": [
    "You can select a range of labels:\n"
   ]
  },
  {
   "cell_type": "code",
   "execution_count": null,
   "id": "c82196be",
   "metadata": {},
   "outputs": [],
   "source": [
    "ta.sel(time=slice(\"1984-01-01\", \"1984-12-01\"))"
   ]
  },
  {
   "cell_type": "markdown",
   "id": "aa558b36",
   "metadata": {},
   "source": [
    "Nearest neighbor selection. Sometime we don' know the exact index (e.g. latitude), so we use nearest neighbor method.\n"
   ]
  },
  {
   "cell_type": "markdown",
   "id": "e08378da",
   "metadata": {},
   "source": [
    "Example: Here we want find closes air temperature to a specific lat and lon.\n",
    "\n",
    "But the longitude of this file starts from 0 on its most left to 360 on its most right. Lets make it from -180 to 180.\n"
   ]
  },
  {
   "cell_type": "code",
   "execution_count": null,
   "id": "52b23ea4",
   "metadata": {},
   "outputs": [],
   "source": [
    "# fixing longitude\n",
    "# We will soon see more on basic calculations like below:\n",
    "ta.coords[\"lon\"] = (ta.coords[\"lon\"] + 180) % 360 - 180\n",
    "ta = ta.sortby(ta.lon)"
   ]
  },
  {
   "cell_type": "markdown",
   "id": "79d5f3d3",
   "metadata": {},
   "source": [
    "Now find the nearest neighbor\n"
   ]
  },
  {
   "cell_type": "code",
   "execution_count": null,
   "id": "c587cdfd",
   "metadata": {},
   "outputs": [],
   "source": [
    "nearest_neighbor = ta.sel(lat=43, lon=89, method=\"nearest\")\n",
    "plt.plot(nearest_neighbor.values, \"-\")\n",
    "nearest_neighbor"
   ]
  },
  {
   "cell_type": "markdown",
   "id": "2c1f8f35",
   "metadata": {},
   "source": [
    "## Create Mask with `where()`\n",
    "\n",
    "The `where()` can come handy in many many situations.\n",
    "\n",
    "For example, we can tell where in the world temperature was above/below a certain degree, create masks, find missing data and many other applications.\n"
   ]
  },
  {
   "cell_type": "code",
   "execution_count": null,
   "id": "f80f99c2",
   "metadata": {},
   "outputs": [],
   "source": [
    "da = ta.sel(time=\"2023-05-01\")\n",
    "da_cold = da.where(da < 273.15)\n",
    "plt.imshow(da_cold.values, cmap=\"coolwarm\")"
   ]
  },
  {
   "cell_type": "markdown",
   "id": "f83924a4",
   "metadata": {},
   "source": [
    "We can replace the masked regions and replace it with desired data.\n",
    "\n",
    "In the code below we say find grids where temp is less than 273.15 K and replace them with temp=500 K (just because we can!), and for other region keep the original value.\n"
   ]
  },
  {
   "cell_type": "code",
   "execution_count": null,
   "id": "4d8d49a6",
   "metadata": {},
   "outputs": [],
   "source": [
    "# Replace the below zero values with 100 (just for the sake of example)\n",
    "da_hot = xr.where(da < 273.15, 500, da)\n",
    "plt.imshow(da_hot.values, cmap=\"coolwarm\")"
   ]
  },
  {
   "cell_type": "markdown",
   "id": "03f17d97",
   "metadata": {},
   "source": [
    "We can replace it with other DataArrays...\n"
   ]
  },
  {
   "cell_type": "code",
   "execution_count": null,
   "id": "478e7da0",
   "metadata": {},
   "outputs": [],
   "source": [
    "da_tmp = xr.where(da < 273.15, ta.sel(time=\"1985-08-01\"), da)"
   ]
  },
  {
   "cell_type": "markdown",
   "id": "54838895",
   "metadata": {},
   "source": [
    "## 3. Plotting\n"
   ]
  },
  {
   "cell_type": "markdown",
   "id": "d5a02edc",
   "metadata": {},
   "source": [
    "### One dimensional plot\n"
   ]
  },
  {
   "cell_type": "markdown",
   "id": "88c47b88",
   "metadata": {},
   "source": [
    "We can simply use the `plot()` method to plot the data.\n"
   ]
  },
  {
   "cell_type": "code",
   "execution_count": null,
   "id": "d57fcc2e",
   "metadata": {},
   "outputs": [],
   "source": [
    "ta.sel(time=slice(\"2010-01-01\", \"2020-12-31\")).isel(lat=100, lon=150).plot()"
   ]
  },
  {
   "cell_type": "markdown",
   "id": "88e2bdb4",
   "metadata": {},
   "source": [
    "xarray under the hood used the `matplotlib` library. Any argument that goes into matplotlib can be passed to xarray\n"
   ]
  },
  {
   "cell_type": "code",
   "execution_count": null,
   "id": "ae4df160",
   "metadata": {},
   "outputs": [],
   "source": [
    "ta.sel(time=slice(\"2010-01-01\", \"2020-12-31\")).isel(lat=100, lon=150).plot.line(\"-*\")"
   ]
  },
  {
   "cell_type": "code",
   "execution_count": null,
   "id": "943c51b6",
   "metadata": {},
   "outputs": [],
   "source": [
    "ta.sel(time=slice(\"2010-01-01\", \"2020-12-31\")).isel(lat=100, lon=150).plot(\n",
    "    aspect=2, size=3\n",
    ")\n",
    "plt.title(\"Temperature at 100N, 150E\")\n",
    "plt.xlabel(\"Monthly Time\")\n",
    "plt.ylabel(\"Temperature (K)\")\n",
    "plt.tight_layout()"
   ]
  },
  {
   "cell_type": "markdown",
   "id": "c9381abb",
   "metadata": {},
   "source": [
    "### Two dimensional plots\n"
   ]
  },
  {
   "cell_type": "markdown",
   "id": "665663f2",
   "metadata": {},
   "source": [
    "xarray is smart enough that in many cases it can interpret your data and choose an appropriate type.\n"
   ]
  },
  {
   "cell_type": "code",
   "execution_count": null,
   "id": "02dda13d",
   "metadata": {},
   "outputs": [],
   "source": [
    "ta.isel(time=0).plot(robust=True, cbar_kwargs={\"label\": \"Temperature (°C)\"})\n",
    "plt.title(\"Temperature in January 1948\")\n",
    "plt.xlabel(\"Longitude\")\n",
    "plt.ylabel(\"Latitude\")"
   ]
  },
  {
   "cell_type": "markdown",
   "id": "08439c5b",
   "metadata": {},
   "source": [
    "### Faceting\n",
    "\n",
    "Its handy when we want to plot multiple plots along a dimension (e.g. time)\n"
   ]
  },
  {
   "cell_type": "code",
   "execution_count": null,
   "id": "08e4e9ca",
   "metadata": {},
   "outputs": [],
   "source": [
    "ta_sub = ta.sel(time=slice(\"2010-01-01\", \"2010-06-30\"))\n",
    "ta_sub.plot(col=\"time\", col_wrap=3)"
   ]
  },
  {
   "cell_type": "markdown",
   "id": "98220aae",
   "metadata": {},
   "source": [
    "### More advanced plots\n"
   ]
  },
  {
   "cell_type": "markdown",
   "id": "e70c9b04",
   "metadata": {},
   "source": [
    "In general the xarray basic plotting is great for data exploration (quick test).\n",
    "\n",
    "However, it other more plotting packages were integrated with xarray to produce more complicated plots.\n"
   ]
  },
  {
   "cell_type": "markdown",
   "id": "ba8684f3",
   "metadata": {},
   "source": [
    "For example code below is how to plot it in various projections, adding coastlines etc.\n"
   ]
  },
  {
   "cell_type": "code",
   "execution_count": null,
   "id": "a3971d39",
   "metadata": {},
   "outputs": [],
   "source": [
    "import cartopy.crs as ccrs\n",
    "import cartopy.feature as cfeature\n",
    "\n",
    "p = ta.isel(time=10).plot(\n",
    "    subplot_kws=dict(projection=ccrs.Orthographic(-80, 35), facecolor=\"gray\"),\n",
    "    transform=ccrs.PlateCarree(),\n",
    "    robust=True,\n",
    ")\n",
    "\n",
    "p.axes.coastlines()\n",
    "p.axes.add_feature(cfeature.BORDERS)"
   ]
  },
  {
   "cell_type": "markdown",
   "id": "eb4c6d63",
   "metadata": {},
   "source": [
    "Different projections\n"
   ]
  },
  {
   "cell_type": "code",
   "execution_count": null,
   "id": "e28e4c1e",
   "metadata": {},
   "outputs": [],
   "source": [
    "p = ta.isel(time=10).plot(\n",
    "    subplot_kws=dict(projection=ccrs.Robinson(), facecolor=\"gray\"),\n",
    "    figsize=(10, 5),\n",
    "    transform=ccrs.PlateCarree(),\n",
    "    robust=True,\n",
    ")\n",
    "\n",
    "p.axes.coastlines()\n",
    "p.axes.add_feature(cfeature.BORDERS)"
   ]
  },
  {
   "cell_type": "markdown",
   "id": "e8de8a31",
   "metadata": {},
   "source": [
    "### Interactive plotting\n"
   ]
  },
  {
   "cell_type": "markdown",
   "id": "e0c533d5",
   "metadata": {},
   "source": [
    "Hover your mouse over the plot to see the temperature at different locations.\n"
   ]
  },
  {
   "cell_type": "code",
   "execution_count": null,
   "id": "2ae08ac2",
   "metadata": {},
   "outputs": [],
   "source": [
    "# import hvplot.xarray\n",
    "\n",
    "# ta.isel(time=10).hvplot(\n",
    "#     width=800,\n",
    "#     height=400,\n",
    "#     cmap=\"fire\",\n",
    "#     projection=ccrs.Mollweide(),\n",
    "# )"
   ]
  },
  {
   "cell_type": "markdown",
   "id": "35851329",
   "metadata": {},
   "source": [
    "You may run into issue with the next interactive figure, if you do, you can upgrade the ipywidgets library using the following command:\n",
    "\n",
    "python -m pip install --upgrade ipywidgets\n"
   ]
  },
  {
   "cell_type": "markdown",
   "id": "f955559e",
   "metadata": {},
   "source": [
    "Make a simple animations\n"
   ]
  },
  {
   "cell_type": "code",
   "execution_count": null,
   "id": "b9d7a3a1",
   "metadata": {},
   "outputs": [],
   "source": [
    "# # !pip install --upgrade ipywidgets\n",
    "# ta.isel(time=range(12)).hvplot(\n",
    "#     width=800,\n",
    "#     height=400,\n",
    "#     cmap=\"fire\",\n",
    "#     # projection=ccrs.Orthographic(-90, 30),\n",
    "#     coastline=True,\n",
    "#     groupby=\"time\",\n",
    "#     widget_type=\"scrubber\",\n",
    "#     widget_location=\"bottom\",\n",
    "# )\n"
   ]
  },
  {
   "cell_type": "markdown",
   "id": "da5f11a8",
   "metadata": {},
   "source": [
    "## 4. Computations\n"
   ]
  },
  {
   "cell_type": "markdown",
   "id": "b2fcebbf",
   "metadata": {},
   "source": [
    "Xarray integrates seamlessly with NumPy, allowing you to apply many familiar NumPy functions directly to xarray objects (DataArrays and Datasets) while preserving their labeled structure and coordinates.\n"
   ]
  },
  {
   "cell_type": "code",
   "execution_count": null,
   "id": "d197bd63",
   "metadata": {},
   "outputs": [],
   "source": [
    "# For example let calculate log and sin of the air temprature, whatever they mean!\n",
    "ta_sel = ta.sel(time=\"2023-08-01\")\n",
    "\n",
    "log_ta = np.log(ta_sel)\n",
    "sin_ta = np.sin(ta_sel)\n",
    "\n",
    "fig, axes = plt.subplots(2, 1, figsize=(8, 6))\n",
    "log_ta.plot(ax=axes[0])\n",
    "sin_ta.plot(ax=axes[1])\n",
    "\n",
    "axes[0].set_title(\"Log of Air Temperature!\")\n",
    "axes[1].set_title(\"Sine of Air Temperature!\")\n",
    "plt.tight_layout()"
   ]
  },
  {
   "cell_type": "markdown",
   "id": "74fea806",
   "metadata": {},
   "source": [
    "you can also do operations on the multiple variables"
   ]
  },
  {
   "cell_type": "code",
   "execution_count": null,
   "id": "59350ec6",
   "metadata": {},
   "outputs": [],
   "source": [
    "### Let calcualte Normalized Difference Vegetation Index (NDVI) from landsat data\n",
    "# NDVI = (NIR - RED) / (NIR + RED)\n",
    "NIR = landsat[\"SR_B5\"]\n",
    "RED = landsat[\"SR_B4\"]\n",
    "NDVI = (NIR - RED) / (NIR + RED)\n",
    "NDVI = NDVI.squeeze()\n",
    "\n",
    "NIR.sel(time=\"2023-05-04\").plot(\n",
    "    cmap=\"viridis\",\n",
    "    cbar_kwargs={\"label\": \"NIR\"},\n",
    "    figsize=(8, 4),\n",
    ")\n"
   ]
  },
  {
   "cell_type": "markdown",
   "id": "67c2f6cb",
   "metadata": {},
   "source": [
    "we can use `isnull()`, `notnull()`, `fillna()`, `dropna()` and a few more to deal with missing data\n"
   ]
  },
  {
   "cell_type": "markdown",
   "id": "421c17fd",
   "metadata": {},
   "source": [
    "Plot grids where it is `NaN` and its not `NaN`\n"
   ]
  },
  {
   "cell_type": "code",
   "execution_count": null,
   "id": "135923c0",
   "metadata": {},
   "outputs": [],
   "source": [
    "plt.subplot(1, 2, 1)\n",
    "ta_sel.isnull().plot()\n",
    "plt.subplot(1, 2, 2)\n",
    "ta_sel.notnull().plot()"
   ]
  },
  {
   "cell_type": "markdown",
   "id": "c17fdd4a",
   "metadata": {},
   "source": [
    "Fill the missing values with 0\n"
   ]
  },
  {
   "cell_type": "code",
   "execution_count": null,
   "id": "f7069b99",
   "metadata": {},
   "outputs": [],
   "source": [
    "ta_sel.fillna(0).plot(robust=True)"
   ]
  },
  {
   "cell_type": "markdown",
   "id": "0886fb32",
   "metadata": {},
   "source": [
    "Taking the mean/max/min etc.\n"
   ]
  },
  {
   "cell_type": "code",
   "execution_count": null,
   "id": "7a7383d4",
   "metadata": {},
   "outputs": [],
   "source": [
    "ta_sel_mean = ta_sel.mean()\n",
    "ta_sel_mean\n",
    "# Try to sum, std, min, max, median, quantile, etc."
   ]
  },
  {
   "cell_type": "markdown",
   "id": "35410763",
   "metadata": {},
   "source": [
    "Including labels (dimensions) in our calculations.\n",
    "\n",
    "For example we can take the mean over lat and lon dimensions to get the global mean of temperature.\n"
   ]
  },
  {
   "cell_type": "code",
   "execution_count": null,
   "id": "fbb43f6c",
   "metadata": {},
   "outputs": [],
   "source": [
    "ta_mean = ta.mean(dim=[\"lat\", \"lon\"])\n",
    "ta_mean.sel(time=slice(\"2020-01-01\", \"2022-12-01\")).plot()"
   ]
  },
  {
   "cell_type": "markdown",
   "id": "38c67c3d",
   "metadata": {},
   "source": [
    "### Practice: plot the map of global temp mean from the year 1990 to 2010 and plot the results\n"
   ]
  },
  {
   "cell_type": "code",
   "execution_count": null,
   "id": "5d4df6ad",
   "metadata": {},
   "outputs": [],
   "source": [
    "# Your codes here"
   ]
  },
  {
   "cell_type": "markdown",
   "id": "ffd5f945",
   "metadata": {},
   "source": [
    "Solution\n"
   ]
  },
  {
   "cell_type": "code",
   "execution_count": null,
   "id": "0b51680c",
   "metadata": {},
   "outputs": [],
   "source": [
    "ta.sel(time=slice(\"1990-01-01\", \"2010-12-01\")).mean(dim=\"time\").plot()"
   ]
  },
  {
   "cell_type": "markdown",
   "id": "ae9f8a0d",
   "metadata": {},
   "source": [
    "Binning and grouping data using `groupby` and `resample`.\n"
   ]
  },
  {
   "cell_type": "code",
   "execution_count": null,
   "id": "fe53d165",
   "metadata": {},
   "outputs": [],
   "source": [
    "ta_group = ta.groupby(\"time.year\").mean()\n",
    "ta_resample = ta.resample(time=\"Y\").mean()\n",
    "# Notice the dimension of the DataArray is now year instead of time"
   ]
  },
  {
   "cell_type": "markdown",
   "id": "7ac9e249",
   "metadata": {},
   "source": [
    "**Note:**\n",
    "\n",
    "<u>Grouping</u>:\n",
    "\n",
    "- Uses the groupby function to group the data by the \"year\" component of the \"time\" coordinate. Each group represents a year's worth of data.\n",
    "- The `mean()` function is then applied within each group, calculating the average value for each year.\n",
    "- Flexibility: This method offers more flexibility if you need to perform different operations on each year's data (e.g., standard deviation, percentiles). You can iterate over the groups or apply further calculations within the groupby object.\n",
    "\n",
    "<u>Resampling</u>:\n",
    "\n",
    "- Uses the resample function to directly change the sampling frequency of the data to \"Y\" (yearly). This essentially averages all values within each year automatically.\n",
    "- For simple calculations like computing averages, this approach can be more efficient because it avoids explicit grouping and iteration.\n",
    "- Applying further operations on individual years requires additional steps.\n"
   ]
  },
  {
   "cell_type": "markdown",
   "id": "950631a7",
   "metadata": {},
   "source": [
    "Calculate moving average: (Drop year 2025 from plot because we only have a few months of data)\n"
   ]
  },
  {
   "cell_type": "code",
   "execution_count": null,
   "id": "3ac5f1fd",
   "metadata": {},
   "outputs": [],
   "source": [
    "annual_ta = ta.groupby(\"time.year\").mean()  # Group the data by year\n",
    "window_size = 5  # Define the window size for the moving average\n",
    "\n",
    "# # Calculate the moving average\n",
    "moving_avg = annual_ta.rolling(year=window_size, center=True).mean()"
   ]
  },
  {
   "cell_type": "code",
   "execution_count": null,
   "id": "13e8735d",
   "metadata": {},
   "outputs": [],
   "source": [
    "# plot the results of moving average\n",
    "\n",
    "# your codes here"
   ]
  },
  {
   "cell_type": "code",
   "execution_count": null,
   "id": "2056da62",
   "metadata": {},
   "outputs": [],
   "source": [
    "# Solution\n",
    "fig, ax = plt.subplots(figsize=(10, 5))\n",
    "annual_ta.mean(dim=[\"lat\", \"lon\"]).plot()\n",
    "moving_avg.mean(dim=[\"lat\", \"lon\"]).plot(label=\"5-Year Moving Average\")"
   ]
  },
  {
   "cell_type": "markdown",
   "id": "9bdddb6d",
   "metadata": {},
   "source": [
    "What if we want to resample the data to a different time frequency?\n"
   ]
  },
  {
   "cell_type": "code",
   "execution_count": null,
   "id": "8b90b691",
   "metadata": {},
   "outputs": [],
   "source": [
    "ta_resample = ta.resample(time=\"5Y\").mean(dim=\"time\")\n",
    "ta_resample"
   ]
  },
  {
   "cell_type": "markdown",
   "id": "e05eb471",
   "metadata": {},
   "source": [
    "## Apply a costume function to the data along dimension(s)\n",
    "\n",
    "Xarray's `apply_ufunction()` is great for applying your costume functions along any dimension of your data.\n"
   ]
  },
  {
   "cell_type": "markdown",
   "id": "95428157",
   "metadata": {},
   "source": [
    "Lets calculate the trend in annual temperature:\n"
   ]
  },
  {
   "cell_type": "code",
   "execution_count": null,
   "id": "03185ce2",
   "metadata": {},
   "outputs": [],
   "source": [
    "# define a function to compute a linear trend of a time series (we use numpy.polyfit())\n",
    "def linear_trend(y):\n",
    "    if np.isnan(y).any():\n",
    "        return np.nan\n",
    "    x = np.arange(len(y))\n",
    "    pf = np.polyfit(x, y, 1)\n",
    "    # need to return an xr.DataArray for groupby\n",
    "    return pf[0]"
   ]
  },
  {
   "cell_type": "markdown",
   "id": "36f4d0c5",
   "metadata": {},
   "source": [
    "Lets do some basic usage"
   ]
  },
  {
   "cell_type": "code",
   "execution_count": null,
   "id": "745fadbd",
   "metadata": {},
   "outputs": [],
   "source": [
    "# usage of the function\n",
    "x = np.arange(30)\n",
    "y = 2 * x + 3 + np.random.randn(30) * 5\n",
    "plt.plot(x, y, \"o\")\n",
    "trend = linear_trend(y)\n",
    "plt.plot(x, trend * x + 3, \"-r\")\n",
    "plt.title(\"Linear Trend\")"
   ]
  },
  {
   "cell_type": "markdown",
   "id": "db7a8926",
   "metadata": {},
   "source": [
    "Apply the function to each pixel of the air temprature data"
   ]
  },
  {
   "cell_type": "code",
   "execution_count": null,
   "id": "19c3ed20",
   "metadata": {},
   "outputs": [],
   "source": [
    "# Calculate the annual mean\n",
    "ta_annual = ta.resample(time=\"Y\").mean()\n",
    "# Calculate the linear trend\n",
    "trend_result = xr.apply_ufunc(\n",
    "    linear_trend,  # The function to apply (linear_trend in this case)\n",
    "    ta_annual,  # The input data (ta_annual in this case)\n",
    "    input_core_dims=[\n",
    "        [\"time\"]\n",
    "    ],  # Specifies the core dimensions of the input data (in this case, \"time\" is the core dimension)\n",
    "    vectorize=True,  # Vectorize the function (apply element-wise operations)\n",
    ")"
   ]
  },
  {
   "cell_type": "markdown",
   "id": "e98dcd96",
   "metadata": {},
   "source": [
    "Plot the trend resutls\n"
   ]
  },
  {
   "cell_type": "code",
   "execution_count": null,
   "id": "e00d2bd1",
   "metadata": {},
   "outputs": [],
   "source": [
    "trend_result.plot(robust=True)"
   ]
  },
  {
   "cell_type": "markdown",
   "id": "6edbd153",
   "metadata": {},
   "source": [
    "### Problem 2: Calculating Annual Summer Temperature Anomaly\n",
    "\n",
    "#### Objective:\n",
    "\n",
    "To calculate the annual summer temperature anomaly for the entire time period and to visualize the anomaly trend and anomaly map for the year 2023.\n",
    "\n",
    "#### Hint:\n",
    "\n",
    "A simple index for anomaly is to subtract the long term mean from data.\n",
    "\n",
    "#### Procedure:\n",
    "\n",
    "1. **Summer Month Mask:**\n",
    "\n",
    "   - Create a mask for summer months (June, July, August) using `ta['time.month']` and `&`.\n",
    "\n",
    "2. **Apply Mask:**\n",
    "\n",
    "   - Apply the mask to select only summer months using `ta.where(mask)`. Note: Use the argument `drop=True` in `where()` to exclude months other than summer.\n",
    "\n",
    "3. **Calculate Climatological Mean:**\n",
    "\n",
    "   - Compute the climatological mean of summer temperatures (i.e., annual mean). Use `groupby()`\n",
    "\n",
    "4. **Calculate Anomalies:**\n",
    "\n",
    "   - Determine anomalies by subtracting the climatological mean from the summer temperature data.\n",
    "\n",
    "5. **Visualization:**\n",
    "   - Plot the anomaly for the year 2023 and the global mean (`mean[\"lat\",\"lon\"]`) for the entire time period. Utilize `matplotlib.subplot()` to display them side-by-side.\n",
    "\n",
    "#### Note:\n",
    "\n",
    "Keep an eye out for any unusual patterns or trends in the anomalies.\n"
   ]
  },
  {
   "cell_type": "markdown",
   "id": "9fcb1639",
   "metadata": {},
   "source": [
    "**Solution:**\n"
   ]
  },
  {
   "cell_type": "markdown",
   "id": "ed3634ba",
   "metadata": {},
   "source": [
    "A. Calculate the summer anomaly\n"
   ]
  },
  {
   "cell_type": "code",
   "execution_count": null,
   "id": "ef55d078",
   "metadata": {},
   "outputs": [],
   "source": [
    "# Calculate the mask for summer months (June, July, August)\n",
    "mask = (ta[\"time.month\"] >= 6) & (ta[\"time.month\"] <= 8)\n",
    "\n",
    "# Apply the mask to select only summer months data\n",
    "ta_summer = ta.where(mask, drop=True)\n",
    "\n",
    "# Calculate the annual mean of summer temperatures\n",
    "ta_summer_annual = ta_summer.groupby(\"time.year\").mean()\n",
    "\n",
    "# Calculate the climatological mean of summer temperatures\n",
    "clima_mean = ta_summer_annual.mean(dim=\"year\")\n",
    "\n",
    "# Calculate the summer temperature anomalies by subtracting the climatological mean\n",
    "summer_anomalies = ta_summer_annual - clima_mean"
   ]
  },
  {
   "cell_type": "markdown",
   "id": "c5b58f96",
   "metadata": {},
   "source": [
    "B. Plot the anomaly trend and anomaly map for the year 2023\n"
   ]
  },
  {
   "cell_type": "code",
   "execution_count": null,
   "id": "d3667edc",
   "metadata": {},
   "outputs": [],
   "source": [
    "fig, axs = plt.subplots(ncols=2, figsize=(12, 4))\n",
    "\n",
    "# Plot the summer anomalies for the year 2023\n",
    "summer_anomalies.sel(year=2023).plot(robust=True, cmap=\"coolwarm\", ax=axs[0])\n",
    "\n",
    "# Plot the global mean of summer temperature anomalies\n",
    "summer_anomalies.mean([\"lat\", \"lon\"]).plot(ax=axs[1])\n",
    "\n",
    "# Add an arrow pointing to the anomaly values in the year 2021\n",
    "axs[1].annotate(\n",
    "    \"Approaching values projected for 2100 :(\",\n",
    "    xy=(2023, summer_anomalies.sel(year=2023).mean([\"lat\", \"lon\"])),\n",
    "    xytext=(1960, summer_anomalies.sel(year=2023).mean([\"lat\", \"lon\"]) - 0.5),\n",
    "    arrowprops=dict(facecolor=\"black\", arrowstyle=\"->\"),\n",
    ")\n",
    "\n",
    "plt.tight_layout()"
   ]
  },
  {
   "cell_type": "markdown",
   "id": "4a4e3744",
   "metadata": {},
   "source": [
    "More on 1.5 C and its importance in [IPCC report: chapter 1](https://www.ipcc.ch/sr15/chapter/chapter-1/).\n",
    "\n",
    "P.S. To be more accurate we need to do a bit more:\n",
    "\n",
    "- We need to take the area of cells into account when calculating the global mean.\n",
    "- We need to deal with outliers.\n",
    "- This dataset is one of the many, other datasets may show different results.\n",
    "- And anomalies are not distributed uniformly, for example arctic is warming twice as fast the rest of the world, as we have seen it in the last trend analyses.\n"
   ]
  },
  {
   "cell_type": "markdown",
   "id": "d88b692b",
   "metadata": {},
   "source": [
    "## Calculate Landsat Enhanced Vegetation Index (EVI)\n",
    "EVI = G * ((NIR - R) / (NIR + C1 * R – C2 * B + L))\n",
    "In Landsat 8-9, EVI = 2.5 * ((Band 5 – Band 4) / (Band 5 + 6 * Band 4 – 7.5 * Band 2 + 1)).\n",
    "\n",
    "Plot NDVI and EVI side by side for comparison"
   ]
  },
  {
   "cell_type": "code",
   "execution_count": 53,
   "id": "12aab5e4",
   "metadata": {},
   "outputs": [],
   "source": [
    "# Your codes here"
   ]
  },
  {
   "cell_type": "markdown",
   "id": "b1c6de7b",
   "metadata": {},
   "source": [
    "### Large Data and Speed: The Next Challenge\n",
    "\n",
    "We've covered the basics of climate data processing in Python. Now, let's tackle the real challenges:\n",
    "\n",
    "1. **Out-of-memory data:** What happens when datasets are too large to fit in memory?\n",
    "2. **Speeding up computations:** How can we analyze data faster, especially with large datasets?\n",
    "\n",
    "In the next session, we'll introduce `Dask`, a powerful tool for handling these issues.\n"
   ]
  }
 ],
 "metadata": {
  "kernelspec": {
   "display_name": "nasa_env",
   "language": "python",
   "name": "python3"
  },
  "language_info": {
   "codemirror_mode": {
    "name": "ipython",
    "version": 3
   },
   "file_extension": ".py",
   "mimetype": "text/x-python",
   "name": "python",
   "nbconvert_exporter": "python",
   "pygments_lexer": "ipython3",
   "version": "3.9.22"
  }
 },
 "nbformat": 4,
 "nbformat_minor": 5
}
