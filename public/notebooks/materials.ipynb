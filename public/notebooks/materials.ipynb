{
 "cells": [
  {
   "cell_type": "raw",
   "id": "74f5a39e-1323-4a11-9d2d-1f6d41788984",
   "metadata": {},
   "source": [
    "# Deep Learning for Geospatial Science Workshop\n",
    "\n",
    "**Duration: 2 hours**\n",
    "\n",
    "## Workshop Overview\n",
    "\n",
    "This hands-on workshop introduces deep learning concepts and applications in geospatial science, focusing on practical implementations using popular frameworks and tools.\n",
    "\n",
    "## Prerequisites\n",
    "\n",
    "- Basic Python programming knowledge\n",
    "- Familiarity with GIS concepts\n",
    "- Laptop with Python environment (preferably Anaconda)\n",
    "- Basic understanding of machine learning concepts\n",
    "- Required packages: `pytorch`, `TensorFlow`, `torchgeo`, `arcgis.learn`, `gdal`, `rasterio`, `geopandas`\n",
    "\n",
    "## Schedule\n",
    "\n",
    "### Part 1: Introduction to GeoAI (20 minutes)\n",
    "\n",
    "#### What is GeoAI?\n",
    "\n",
    "- Integration of artificial intelligence with geospatial data\n",
    "- Enhancing spatial analysis with machine learning\n",
    "- Applications in various sectors like environmental monitoring, urban planning, and disaster management\n",
    "\n",
    "#### Deep Learning in Geospatial Context\n",
    "\n",
    "- Difference between traditional machine learning and deep learning\n",
    "- Benefits of deep learning for complex spatial patterns\n",
    "- Common neural network architectures used in geospatial tasks\n",
    "\n",
    "### Part 2: Tools and Frameworks Overview (20 minutes)\n",
    "\n",
    "#### ArcGIS API for Python and `arcgis.learn`\n",
    "\n",
    "- High-level API for GIS and deep learning tasks\n",
    "- Pre-trained models and transfer learning\n",
    "- Integration with ArcGIS Online and Pro\n",
    "\n",
    "#### TorchGeo\n",
    "\n",
    "- Datasets and samplers for geospatial data\n",
    "- Integration with PyTorch\n",
    "- Customizable data loaders for satellite imagery\n",
    "\n",
    "#### Other Essential Libraries\n",
    "\n",
    "- `GDAL` and `rasterio` for raster data handling\n",
    "- `geopandas` for vector data manipulation\n",
    "- `TensorFlow` for deep learning model development\n"
   ]
  },
  {
   "cell_type": "code",
   "execution_count": null,
   "id": "f1e0b8f4-6b4a-4d9b-9a6e-9e0f8d4d3e2f",
   "metadata": {},
   "outputs": [],
   "source": [
    "# Install necessary packages (if not already installed)\n",
    "!pip install torch torchvision torchgeo arcgis gdal rasterio geopandas"
   ]
  },
  {
   "cell_type": "markdown",
   "id": "b2a1d6f7-8e4b-4d6a-9c2e-7e1f9d3c4b5e",
   "metadata": {},
   "source": [
    "### Part 3: Hands-on Example - Land Cover Classification\n",
    "\n",
    "In this section, we will perform land cover classification using satellite imagery. We will use `torchgeo` and `arcgis.learn` to build, train, and evaluate our models.\n",
    "\n",
    "#### Dataset Preparation\n",
    "\n",
    "We will use a sample dataset containing satellite images and their corresponding land cover labels.\n"
   ]
  },
  {
   "cell_type": "code",
   "execution_count": null,
   "id": "a3c0d7e6-5f3b-4c8d-b9a5-6d2f7e9c0b1d",
   "metadata": {},
   "outputs": [],
   "source": [
    "# Import necessary libraries\n",
    "import torch\n",
    "from torch import nn\n",
    "from torch.utils.data import DataLoader\n",
    "from torchvision import transforms\n",
    "from torchgeo.datasets import EuroSAT\n",
    "from torchgeo.transforms import indices\n",
    "\n",
    "import matplotlib.pyplot as plt\n",
    "import numpy as np"
   ]
  },
  {
   "cell_type": "markdown",
   "id": "e5f6d4c3-2b1a-4c6d-8e9f-0a1b2c3d4e5f",
   "metadata": {},
   "source": [
    "##### Load the Dataset\n",
    "\n",
    "We will use the EuroSAT dataset, which contains Sentinel-2 satellite images covering 10 classes."
   ]
  },
  {
   "cell_type": "code",
   "execution_count": null,
   "id": "c4d5e6f7-1a2b-3c4d-5e6f-7a8b9c0d1e2f",
   "metadata": {},
   "outputs": [],
   "source": [
    "# Define transformations\n",
    "transform = transforms.Compose([\n",
    "    transforms.Resize((64, 64)),\n",
    "    transforms.ToTensor()\n",
    "])\n",
    "\n",
    "# Load the dataset\n",
    "dataset = EuroSAT(root=\"data/EuroSAT\", split=\"train\", transforms=transform, download=True)\n",
    "\n",
    "# Split into training and validation sets\n",
    "train_size = int(0.8 * len(dataset))\n",
    "val_size = len(dataset) - train_size\n",
    "train_dataset, val_dataset = torch.utils.data.random_split(dataset, [train_size, val_size])\n",
    "\n",
    "# Create data loaders\n",
    "train_loader = DataLoader(train_dataset, batch_size=32, shuffle=True)\n",
    "val_loader = DataLoader(val_dataset, batch_size=32, shuffle=False)"
   ]
  },
  {
   "cell_type": "markdown",
   "id": "f6e7d8c9-0b1a-2c3d-4e5f-6a7b8c9d0e1f",
   "metadata": {},
   "source": [
    "##### Define the Model\n",
    "\n",
    "We will use a simple convolutional neural network for classification."
   ]
  },
  {
   "cell_type": "code",
   "execution_count": null,
   "id": "d7c8b9a0-1b2c-3d4e-5f6a-7b8c9d0e1f2a",
   "metadata": {},
   "outputs": [],
   "source": [
    "# Define the model\n",
    "class SimpleCNN(nn.Module):\n",
    "    def __init__(self, num_classes):\n",
    "        super(SimpleCNN, self).__init__()\n",
    "        self.features = nn.Sequential(\n",
    "            nn.Conv2d(13, 32, kernel_size=3, padding=1),\n",
    "            nn.ReLU(),\n",
    "            nn.MaxPool2d(2),\n",
    "            nn.Conv2d(32, 64, kernel_size=3, padding=1),\n",
    "            nn.ReLU(),\n",
    "            nn.MaxPool2d(2)\n",
    "        )\n",
    "        self.classifier = nn.Sequential(\n",
    "            nn.Flatten(),\n",
    "            nn.Linear(64 * 16 * 16, 256),\n",
    "            nn.ReLU(),\n",
    "            nn.Dropout(0.5),\n",
    "            nn.Linear(256, num_classes)\n",
    "        )\n",
    "    \n",
    "    def forward(self, x):\n",
    "        x = self.features(x)\n",
    "        x = self.classifier(x)\n",
    "        return x\n",
    "\n",
    "num_classes = 10\n",
    "model = SimpleCNN(num_classes)"
   ]
  },
  {
   "cell_type": "markdown",
   "id": "e8f9d0c1-2b3a-4c5d-6e7f-8a9b0c1d2e3f",
   "metadata": {},
   "source": [
    "##### Training the Model"
   ]
  },
  {
   "cell_type": "code",
   "execution_count": null,
   "id": "f0e1d2c3-4b5a-6c7d-8e9f-0a1b2c3d4e5f",
   "metadata": {},
   "outputs": [],
   "source": [
    "# Define loss function and optimizer\n",
    "criterion = nn.CrossEntropyLoss()\n",
    "optimizer = torch.optim.Adam(model.parameters(), lr=0.001)\n",
    "\n",
    "# Training loop\n",
    "num_epochs = 5\n",
    "for epoch in range(num_epochs):\n",
    "    model.train()\n",
    "    running_loss = 0.0\n",
    "    for images, labels in train_loader:\n",
    "        optimizer.zero_grad()\n",
    "        outputs = model(images)\n",
    "        loss = criterion(outputs, labels)\n",
    "        loss.backward()\n",
    "        optimizer.step()\n",
    "        running_loss += loss.item()\n",
    "    \n",
    "    # Validation\n",
    "    model.eval()\n",
    "    correct = 0\n",
    "    total = 0\n",
    "    with torch.no_grad():\n",
    "        for images, labels in val_loader:\n",
    "            outputs = model(images)\n",
    "            _, predicted = torch.max(outputs.data, 1)\n",
    "            total += labels.size(0)\n",
    "            correct += (predicted == labels).sum().item()\n",
    "    \n",
    "    print(f\"Epoch {epoch+1}/{num_epochs}, Loss: {running_loss/len(train_loader):.4f}, Validation Accuracy: {100 * correct / total:.2f}%\")"
   ]
  },
  {
   "cell_type": "markdown",
   "id": "a1b2c3d4-5e6f-7a8b-9c0d-1e2f3a4b5c6d",
   "metadata": {},
   "source": [
    "##### Visualize Sample Predictions"
   ]
  },
  {
   "cell_type": "code",
   "execution_count": null,
   "id": "b2c3d4e5-6f7a-8b9c-0d1e-2f3a4b5c6d7e",
   "metadata": {},
   "outputs": [],
   "source": [
    "# Get a batch of validation data\n",
    "dataiter = iter(val_loader)\n",
    "images, labels = dataiter.next()\n",
    "\n",
    "# Get predictions\n",
    "outputs = model(images)\n",
    "_, predicted = torch.max(outputs, 1)\n",
    "\n",
    "# Display images and predictions\n",
    "fig = plt.figure(figsize=(12, 8))\n",
    "for idx in range(8):\n",
    "    ax = fig.add_subplot(2, 4, idx+1)\n",
    "    img = images[idx].numpy().transpose((1, 2, 0))\n",
    "    img = np.clip(img, 0, 1)\n",
    "    ax.imshow(img)\n",
    "    ax.set_title(f\"Predicted: {dataset.classes[predicted[idx]]}\\nActual: {dataset.classes[labels[idx]]}\")\n",
    "    ax.axis('off')\n",
    "plt.show()"
   ]
  },
  {
   "cell_type": "markdown",
   "id": "c3d4e5f6-7a8b-9c0d-1e2f-3a4b5c6d7e8f",
   "metadata": {},
   "source": [
    "### Part 4: Using `arcgis.learn` for Object Detection \n",
    "\n",
    "We will now use `arcgis.learn` to perform object detection on geospatial data."
   ]
  },
  {
   "cell_type": "code",
   "execution_count": null,
   "id": "d4e5f6a7-8b9c-0d1e-2f3a-4b5c6d7e8f9a",
   "metadata": {},
   "outputs": [],
   "source": [
    "# Import necessary libraries\n",
    "from arcgis.gis import GIS\n",
    "from arcgis.learn import SingleShotDetector, prepare_data\n",
    "\n",
    "# Connect to GIS (anonymous)\n",
    "gis = GIS()\n",
    "\n",
    "# Prepare the data\n",
    "data_path = 'path_to_your_data'\n",
    "data = prepare_data(data_path, batch_size=8, chip_size=224)\n",
    "\n",
    "# Initialize the model\n",
    "model = SingleShotDetector(data)\n",
    "\n",
    "# Train the model\n",
    "model.fit(epochs=5, lr=0.001)"
   ]
  },
  {
   "cell_type": "markdown",
   "id": "e5f6a7b8-9c0d-1e2f-3a4b-5c6d7e8f9a0b",
   "metadata": {},
   "source": [
    "##### Evaluate the Model"
   ]
  },
  {
   "cell_type": "code",
   "execution_count": null,
   "id": "f6a7b8c9-0d1e-2f3a-4b5c-6d7e8f9a0b1c",
   "metadata": {},
   "outputs": [],
   "source": [
    "# Show results\n",
    "model.show_results()"
   ]
  },
  {
   "cell_type": "markdown",
   "id": "a8b9c0d1-2e3f-4a5b-6c7d-8e9f0a1b2c3d",
   "metadata": {},
   "source": [
    "### Part 5: Best Practices and Optimization\n",
    "\n",
    "#### Data Augmentation\n",
    "\n",
    "Applying data augmentation techniques to improve model generalization."
   ]
  },
  {
   "cell_type": "code",
   "execution_count": null,
   "id": "b9c0d1e2-3f4a-5b6c-7d8e-9f0a1b2c3d4e",
   "metadata": {},
   "outputs": [],
   "source": [
    "# Define augmentations\n",
    "augmentation = transforms.Compose([\n",
    "    transforms.RandomHorizontalFlip(),\n",
    "    transforms.RandomVerticalFlip(),\n",
    "    transforms.RandomRotation(30)\n",
    "])\n",
    "\n",
    "# Apply augmentations in data loader\n",
    "train_dataset.dataset.transform = transforms.Compose([augmentation, transform])"
   ]
  },
  {
   "cell_type": "markdown",
   "id": "c0d1e2f3-4a5b-6c7d-8e9f-0a1b2c3d4e5f",
   "metadata": {},
   "source": [
    "#### Hyperparameter Tuning\n",
    "\n",
    "- Adjust learning rates\n",
    "- Modify network architectures\n",
    "- Experiment with batch sizes"
   ]
  },
  {
   "cell_type": "markdown",
   "id": "d1e2f3a4-5b6c-7d8e-9f0a-1b2c3d4e5f6a",
   "metadata": {},
   "source": [
    "### Part 6: Q&A and Resources\n",
    "\n",
    "#### Additional Resources\n",
    "\n",
    "- [ArcGIS API for Python Documentation](https://developers.arcgis.com/python/)\n",
    "- [TorchGeo Documentation](https://torchgeo.readthedocs.io/en/latest/)\n",
    "- [PyTorch Tutorials](https://pytorch.org/tutorials/)\n",
    "- [Esri GeoAI Resources](https://www.esri.com/en-us/capabilities/geoai/overview)"
   ]
  },
  {
   "cell_type": "markdown",
   "id": "e2f3a4b5-6c7d-8e9f-0a1b-2c3d4e5f6a7b",
   "metadata": {},
   "source": [
    "## Follow-up Learning Path\n",
    "\n",
    "- Explore advanced models like UNet, ResNet, and DenseNet\n",
    "- Dive into semantic segmentation tasks\n",
    "- Learn about deploying models in production environments\n",
    "- Engage with the geospatial data science community"
   ]
  },
  {
   "cell_type": "markdown",
   "id": "a4b5c6d7-8e9f-0a1b-2c3d-4e5f6a7b8c9d",
   "metadata": {},
   "source": [
    "## References\n",
    "\n",
    "[1] Esri. (2023). [Deep Learning Models in ArcGIS Learn](https://www.esri.com/arcgis-blog/products/api-python/analytics/deep-learning-models-in-arcgis-learn/)\n",
    "\n",
    "[2] Esri. (2023). [GeoAI Overview](https://www.esri.com/en-us/capabilities/geoai/overview)\n",
    "\n",
    "[3] PyTorch. (2023). [PyTorch Documentation](https://pytorch.org/docs/stable/index.html)\n",
    "\n",
    "[4] TorchGeo. (2023). [TorchGeo Documentation](https://torchgeo.readthedocs.io/en/latest/)"
   ]
  },
  {
   "cell_type": "markdown",
   "id": "b5c6d7e8-9f0a-1b2c-3d4e-5f6a7b8c9d0e",
   "metadata": {},
   "source": [
    "## Thank You!\n",
    "\n",
    "Feel free to reach out if you have any questions or need further assistance with your geospatial deep learning projects."
   ]
  }
 ],
 "metadata": {
  "kernelspec": {
   "display_name": "Python 3 (ipykernel)",
   "language": "python",
   "name": "python3"
  },
  "language_info": {
   "codemirror_mode": {
    "name": "ipython",
    "version": 3
   },
   "file_extension": ".py",
   "mimetype": "text/x-python",
   "name": "python",
   "nbconvert_exporter": "python",
   "pygments_lexer": "ipython3",
   "version": "3.12.1"
  }
 },
 "nbformat": 4,
 "nbformat_minor": 5
}
